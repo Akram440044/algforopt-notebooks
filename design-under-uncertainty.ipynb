{
 "cells": [
  {
   "cell_type": "markdown",
   "metadata": {},
   "source": [
    "# Design Under Uncertainty\n",
    "\n",
    "This notebook was automatically generated from the Algorithms for Optimization source code. Each cell generates a figure from the original text. While this code is not optimized for use in lectures, we provide it here to be adapted for such projects. We hope you find it useful."
   ]
  },
  {
   "cell_type": "code",
   "execution_count": null,
   "metadata": {
    "collapsed": true
   },
   "outputs": [],
   "source": [
    "include(\"support_code.jl\");"
   ]
  },
  {
   "cell_type": "code",
   "execution_count": null,
   "metadata": {
    "collapsed": true
   },
   "outputs": [],
   "source": [
    "\tusing Distributions\n",
    "\tusing Optim\n",
    "\timport QuadGK: quadgk\n",
    "\n",
    "\tp = let\n",
    "\n",
    "\t\ta = 1\n",
    "\t\tb = 2\n",
    "\t\tc = 4.5\n",
    "\t\tf = x -> 2.5 - 2exp(-100(x-a)^2) - exp(-(x-b)^2)  - 1.4exp(-0.15(x-c)^2)\n",
    "\n",
    "\t\tp = Plots.Plot[]\n",
    "\t\tx_arr = append!(collect(range(0.0,stop=1.5,length=300)), collect(range(1.5,stop=9,length=200)[2:end]))\n",
    "\t\tpush!(p, Plots.Linear(x_arr, f.(x_arr), style=\"solid, thick, black, mark=none\", legendentry=\"noise-free\"))\n",
    "\t\tlabels=[\"very low\", \"low\", \"high\", \"very high\"]\n",
    "\t\tfor (i,σ) in enumerate([0.1,0.5,1.0,2.0])\n",
    "\t\t    P = Normal(0,σ)\n",
    "\t\t    g = x -> quadgk(z->f(x+z)*pdf(P, z), -5, 5)[1]\n",
    "\t\t    push!(p, Plots.Linear(g, (0, 9), xbins=401, style=\"solid, pastelBlue!$(100-25(i-1)), mark=none\", legendentry=labels[i]*\" noise\"))\n",
    "\t\tend\n",
    "\n",
    "\t\tmin_a = optimize(f, a-0.5, a+0.5).minimizer\n",
    "\t\tmin_b = optimize(f, b-0.5, b+0.5).minimizer\n",
    "\t\tmin_c = optimize(f, c-1.0, c+1.0).minimizer\n",
    "\n",
    "\t\tAxis(p, width=\"12cm\", height=\"6cm\", style=\"axis lines=left, xtick={$(min_a), $(min_b), $(min_c)}, xticklabels={\\$a\\$, \\$b\\$, \\$c\\$},  xticklabel style={text height=2ex}, ytick=\\\\empty, legend style={draw=none, at={(0.5,-0.25)}, anchor=north, legend columns=-1, /tikz/every even column/.append style={column sep=0.5cm}}\",\n",
    "\t\t    xlabel=L\"x\", ylabel=\"expected value\", xmin=-0.5, ymin=-0.25)\n",
    "    end\n",
    "    plot(p)"
   ]
  },
  {
   "cell_type": "code",
   "execution_count": null,
   "metadata": {
    "collapsed": true
   },
   "outputs": [],
   "source": [
    "using Distributions\n",
    "using Optim\n",
    "\n",
    "p = let\n",
    "\n",
    "\tf = x -> x^3 + 1\n",
    "\tp = Plots.Plot[]\n",
    "\tpush!(p, Plots.Linear(f, (0, 5), style=\"solid, black, mark=none\"))\n",
    "\n",
    "\tymin = -3\n",
    "\n",
    "\tδ = 0.49\n",
    "\tP = Normal(1.5,0.25)\n",
    "\tdom = quantile.(P, [0.5-δ, 0.5+δ])\n",
    "\ta, b = dom[1], dom[2]\n",
    "\tfa, fb = f(a), f(b)\n",
    "\tpush!(p, Plots.Linear(x->2pdf(P, x)+ymin, (a, b), style=\"solid, pastelBlue, mark=none\"))\n",
    "\tpush!(p, Plots.Linear([-0.5, a, a], [fa, fa, ymin], style=\"draw=none, mark=none, name path=A, forget plot\"))\n",
    "\tpush!(p, Plots.Linear([-0.5, b, b], [fb, fb, ymin], style=\"draw=none, mark=none, name path=B, forget plot\"))\n",
    "\tpush!(p, Plots.Command(\"\\\\addplot[pastelBlue!40] fill between[of=A and B];\"))\n",
    "\t_μ = (fa+fb)/2\n",
    "\tσ = optimize(σ->(quantile(Normal(_μ, σ), 0.5+δ) - fb)^2, 0.1, 10.0).minimizer\n",
    "\tQ = Normal(_μ, σ)\n",
    "\ty_arr = range(fa, stop=fb, length=101)\n",
    "\tx_arr = [3*(pdf(Q, y)-pdf(Q,fa))-0.5 for y in y_arr]\n",
    "\tpush!(p, Plots.Linear(x_arr, y_arr, style=\"solid, pastelBlue, mark=none\"))\n",
    "\tpush!(p, Plots.Node(\"robust\",0,fb, style=\"above right\"))\n",
    "\n",
    "\tP = Normal(4,0.25)\n",
    "\tdom = quantile.(P, [0.5-δ, 0.5+δ])\n",
    "\ta, b = dom[1], dom[2]\n",
    "\tfa, fb = f(a), f(b)\n",
    "\tpush!(p, Plots.Linear(x->2pdf(P, x)+ymin, (a, b), style=\"solid, pastelBlue, mark=none\"))\n",
    "\tpush!(p, Plots.Linear([-0.5, a, a], [fa, fa, -3], style=\"draw=none, mark=none, name path=A, forget plot\"))\n",
    "\tpush!(p, Plots.Linear([-0.5, b, b], [fb, fb, -3], style=\"draw=none, mark=none, name path=B, forget plot\"))\n",
    "\tpush!(p, Plots.Command(\"\\\\addplot[pastelBlue!40] fill between[of=A and B];\"))\n",
    "\t_μ = (fa+fb)/2\n",
    "\tσ = optimize(σ->(quantile(Normal(_μ, σ), 0.5+δ) - fb)^2, 0.1, 10.0).minimizer\n",
    "\tQ = Normal(_μ, σ)\n",
    "\ty_arr = range(fa, stop=fb, length=101)\n",
    "\tx_arr = [3*(pdf(Q, y)-pdf(Q,fa))-0.5 for y in y_arr]\n",
    "\tpush!(p, Plots.Linear(x_arr, y_arr, style=\"solid, pastelBlue, mark=none\"))\n",
    "\tpush!(p, Plots.Node(\"sensitive\",0,fb, style=\"above right\"))\n",
    "\n",
    "\tAxis(p, width=\"9cm\", xmin=-0.5, ymin=ymin, xlabel=L\"x\", ylabel=L\"y\", style=\"axis lines=left, axis on top, xtick=\\\\empty, ytick=\\\\empty\")\n",
    "end\n",
    "plot(p)"
   ]
  }
 ],
 "metadata": {
  "kernelspec": {
   "display_name": "Julia 1.5.1",
   "language": "julia",
   "name": "julia-1.5"
  },
  "language_info": {
   "file_extension": ".jl",
   "mimetype": "application/julia",
   "name": "julia",
   "version": "1.5.1"
  }
 },
 "nbformat": 4,
 "nbformat_minor": 2
}
