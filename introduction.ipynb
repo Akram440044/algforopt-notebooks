{
 "cells": [
  {
   "cell_type": "markdown",
   "metadata": {},
   "source": [
    "# Introduction\n",
    "\n",
    "This notebook was automatically generated from the Algorithms for Optimization source code. Each cell generates a figure from the original text. While this code is not optimized for use in lectures, we provide it here to be adapted for such projects. We hope you find it useful."
   ]
  },
  {
   "cell_type": "code",
   "execution_count": null,
   "metadata": {
    "collapsed": true
   },
   "outputs": [],
   "source": [
    "include(\"support_code.jl\");"
   ]
  },
  {
   "cell_type": "code",
   "execution_count": null,
   "metadata": {
    "collapsed": true
   },
   "outputs": [],
   "source": [
    "\n",
    "p = let\n",
    "\tf = (x,y) -> (1-x)^2 + 5*(y - x^2)^2\n",
    "\tAxis([Plots.Contour(f, (-2,2), (-2,2), levels=[1,2,3,5,10,20,50,100]),\n",
    "\t\t  Plots.Scatter([1], [1], style=\"black, solid, mark=*, mark size = 1, mark options={draw=black}\"),\n",
    "\t\t  ], width=\"9cm\", height=\"9cm\", xlabel=L\"x_1\", ylabel=L\"x_2\", style=\"view={0}{90}, contour/labels=false\"\n",
    "\t)\n",
    "end\n",
    "\n",
    "plot(p)"
   ]
  }
 ],
 "metadata": {
  "kernelspec": {
   "display_name": "Julia 1.5.1",
   "language": "julia",
   "name": "julia-1.5"
  },
  "language_info": {
   "file_extension": ".jl",
   "mimetype": "application/julia",
   "name": "julia",
   "version": "1.5.1"
  }
 },
 "nbformat": 4,
 "nbformat_minor": 2
}
