{
 "cells": [
  {
   "cell_type": "markdown",
   "metadata": {},
   "source": [
    "# Mdo\n",
    "\n",
    "This notebook was automatically generated from the Algorithms for Optimization source code. Each cell generates a figure from the original text. While this code is not optimized for use in lectures, we provide it here to be adapted for such projects. We hope you find it useful."
   ]
  },
  {
   "cell_type": "code",
   "execution_count": null,
   "metadata": {
    "collapsed": true
   },
   "outputs": [],
   "source": [
    "include(\"support_code.jl\");"
   ]
  },
  {
   "cell_type": "code",
   "execution_count": null,
   "metadata": {
    "collapsed": true
   },
   "outputs": [],
   "source": [
    "\tp = let\n",
    "\n",
    "\t\tg = GroupPlot(1, 2, groupStyle=\"vertical sep=1em, xlabels at=edge bottom, ylabels at=edge left, xticklabels at=edge bottom, yticklabels at=edge bottom\", style=\"width=10cm, height=3.75cm, xlabel=iteration\")\n",
    "\n",
    "\t\tfunction F1(A)\n",
    "\t\t\tA[\"y1\"] = A[\"y2\"] - A[\"x\"]\n",
    "\t\t\treturn A\n",
    "\t\tend\n",
    "\t\tfunction F2(A)\n",
    "\t\t\tA[\"y2\"] = sin(A[\"y1\"] + A[\"y3\"])\n",
    "\t\t\treturn A\n",
    "\t\tend\n",
    "\t\tfunction F3(A)\n",
    "\t\t    A[\"y3\"] = cos(A[\"x\"] + A[\"y2\"] + A[\"y1\"])\n",
    "\t\t    return A\n",
    "\t\tend\n",
    "\n",
    "\t\t_K = 20\n",
    "\t\tarr_t = collect(0:_K)\n",
    "\n",
    "\t\tfunction get_plot(Fs, add_legend)\n",
    "\n",
    "\t\t\tA = Dict{String,Float64}(\"x\"=>1.0, \"y1\"=>1.0, \"y2\"=>1.0, \"y3\"=>1.0)\n",
    "\n",
    "\t\t\tarr_y1 = Array{Float64}(undef, _K+1)\n",
    "\t\t\tarr_y2 = Array{Float64}(undef, _K+1)\n",
    "\t\t\tarr_y3 = Array{Float64}(undef, _K+1)\n",
    "\t\t\tarr_y1[1] = A[\"y1\"]\n",
    "\t\t\tarr_y2[1] = A[\"y2\"]\n",
    "\t\t\tarr_y3[1] = A[\"y3\"]\n",
    "\n",
    "\t\t\tfor i in 1 : _K\n",
    "\t\t\t\tfor F in Fs\n",
    "\t\t\t\t\tF(A)\n",
    "\t\t\t\tend\n",
    "\t\t\t\tarr_y1[i+1] = A[\"y1\"]\n",
    "\t\t\t\tarr_y2[i+1] = A[\"y2\"]\n",
    "\t\t\t\tarr_y3[i+1] = A[\"y3\"]\n",
    "\t\t\tend\n",
    "\t\t\tp1 = Plots.Linear(arr_t, arr_y1, style=\"pastelPurple, solid, mark=*, mark size=1, mark options={draw=pastelPurple, fill=pastelPurple}\")\n",
    "\t\t\tp2 = Plots.Linear(arr_t, arr_y2, style=\"pastelBlue, solid, mark=*, mark size=1, mark options={draw=pastelBlue, fill=pastelBlue}\")\n",
    "\t\t\tp3 = Plots.Linear(arr_t, arr_y3, style=\"pastelSeaGreen, solid, mark=*, mark size=1, mark options={draw=pastelSeaGreen, fill=pastelSeaGreen}\")\n",
    "\t\t\tif add_legend\n",
    "\t\t\t\tp1.legendentry = L\"y^{(1)}\"\n",
    "\t\t\t\tp2.legendentry = L\"y^{(2)}\"\n",
    "\t\t\t\tp3.legendentry = L\"y^{(3)}\"\n",
    "\t\t\tend\n",
    "\n",
    "\n",
    "\t\t\treturn Axis([p1, p2, p3], style= add_legend ? \"legend pos=outer north east\" : nothing)\n",
    "\t\tend\n",
    "\n",
    "\t\tpush!(g, get_plot([F1, F2, F3], true))\n",
    "\t\tpush!(g, get_plot([F1, F3, F2], false))\n",
    "\t\tg\n",
    "\tend\n",
    "\tplot(p)"
   ]
  }
 ],
 "metadata": {
  "kernelspec": {
   "display_name": "Julia 1.0.1",
   "language": "julia",
   "name": "julia-1.0"
  },
  "language_info": {
   "file_extension": ".jl",
   "mimetype": "application/julia",
   "name": "julia",
   "version": "1.0.1"
  }
 },
 "nbformat": 4,
 "nbformat_minor": 2
}
