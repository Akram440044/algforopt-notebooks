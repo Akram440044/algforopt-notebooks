{
 "cells": [
  {
   "cell_type": "markdown",
   "metadata": {},
   "source": [
    "# Discrete\n",
    "\n",
    "This notebook was automatically generated from the Algorithms for Optimization source code. Each cell generates a figure from the original text. While this code is not optimized for use in lectures, we provide it here to be adapted for such projects. We hope you find it useful."
   ]
  },
  {
   "cell_type": "code",
   "execution_count": null,
   "metadata": {
    "collapsed": true
   },
   "outputs": [],
   "source": [
    "include(\"support_code.jl\");"
   ]
  },
  {
   "cell_type": "code",
   "execution_count": null,
   "metadata": {
    "collapsed": true
   },
   "outputs": [],
   "source": [
    "        using LinearAlgebra\n",
    "        p = let\n",
    "            f_ = (x,y) -> x + y\n",
    "            dom = (-3.25,3.25)\n",
    "\n",
    "            Xgood = Vector{Float64}[]\n",
    "            Xbad = Vector{Float64}[]\n",
    "            for x in -3 : 3\n",
    "                for y in -3 : 3\n",
    "                    p = [x,y]\n",
    "                    if norm(p) ≤ 2\n",
    "                        push!(Xgood, p)\n",
    "                    else\n",
    "                        push!(Xbad, p)\n",
    "                    end\n",
    "                end\n",
    "            end\n",
    "\n",
    "            y_arr = (x->f_(x[1],x[2])).(Xgood)\n",
    "            y_min = minimum(y_arr)\n",
    "            Xopt = Xgood[findall(y_arr .== y_min)]\n",
    "\n",
    "            Axis([\n",
    "                Plots.Image(f_, dom, dom, xbins=600, ybins=600, colormap=pasteljet, colorbar = false),\n",
    "                Plots.Contour((x,y)->norm([x,y]), dom, dom, levels=[2], contour_style=\"draw color=white\", style=\"thick, white\", xbins=101, ybins=101),\n",
    "                Plots.Scatter([x[1] for x in Xgood], [x[2] for x in Xgood], style=\"solid, white, mark=*, mark size=1.25, mark options={draw=white, fill=white}\"),\n",
    "                Plots.Scatter([x[1] for x in Xbad],  [x[2] for x in Xbad], style=\"solid, white, mark=o, mark size=1.25, mark options={draw=white}\"),\n",
    "                Plots.Scatter([x[1] for x in Xopt],  [x[2] for x in Xopt], style=\"solid, pastelRed, mark=*, mark size=1.5, mark options={draw=pastelRed, fill=pastelRed}\"),\n",
    "                Plots.Scatter([-sqrt(2)],  [-sqrt(2)], style=\"solid, pastelRed, mark=+, mark size=5, mark options={draw=pastelRed, fill=pastelRed}\"),\n",
    "            ], xlabel=L\"x_1\", ylabel=L\"x_2\", width=\"4.75cm\", height=\"4.75cm\", style=\"contour/labels=false, view={0}{90}\")\n",
    "        end\n",
    "        plot(p)"
   ]
  }
 ],
 "metadata": {
  "kernelspec": {
   "display_name": "Julia 1.5.1",
   "language": "julia",
   "name": "julia-1.5"
  },
  "language_info": {
   "file_extension": ".jl",
   "mimetype": "application/julia",
   "name": "julia",
   "version": "1.5.1"
  }
 },
 "nbformat": 4,
 "nbformat_minor": 2
}
