{
 "cells": [
  {
   "cell_type": "markdown",
   "metadata": {},
   "source": [
    "# Derivatives\n",
    "\n",
    "This notebook was automatically generated from the Algorithms for Optimization source code. Each cell generates a figure from the original text. While this code is not optimized for use in lectures, we provide it here to be adapted for such projects. We hope you find it useful."
   ]
  },
  {
   "cell_type": "code",
   "execution_count": null,
   "metadata": {
    "collapsed": true
   },
   "outputs": [],
   "source": [
    "include(\"support_code.jl\");"
   ]
  },
  {
   "cell_type": "code",
   "execution_count": null,
   "metadata": {
    "collapsed": true
   },
   "outputs": [],
   "source": [
    "\tp = let\n",
    "\n",
    "\tf = x->sin(x)\n",
    "\n",
    "\tx₀ = 0.5\n",
    "\tymin = -1.1\n",
    "\tlo = -2\n",
    "\thi = 3\n",
    "\n",
    "\tfunction get_axis(h)\n",
    "\ta, b = x₀, x₀ + h\n",
    "\tfa, fb = f(a), f(b)\n",
    "\tm = (fb - fa) / (b-a)\n",
    "\n",
    "\tp = Plots.Plot[]\n",
    "\tpush!(p, Plots.Linear(f, (lo,hi), style=\"thick, black\"))\n",
    "\tpush!(p, Plots.Linear([a,a],[fa, ymin], style=\"solid, black, mark=none\"))\n",
    "\tpush!(p, Plots.Linear([b,b],[fb, ymin], style=\"solid, black, mark=none\"))\n",
    "\tpush!(p, Plots.Linear([lo,hi],[ymin, ymin], style=\"solid, black, mark=none\"))\n",
    "\tpush!(p, Plots.Linear([lo, hi],[fa + (lo-a)*m, fa + (hi-a)*m], style=\"ultra thick, solid, pastelBlue, mark=none\"))\n",
    "\tpush!(p, Plots.Scatter([a, b],[fa, fb], style=\"solid, mark=*, mark options={draw=black, fill=black}\"))\n",
    "\n",
    "\tAxis(p, style=\"axis lines=left, axis line style = {transparent}, xtick={$(x₀ + h/2)}, xticklabels={\\$h\\$}, ytick=\\\\empty, xtick style={draw=none}, ytick style={draw=none}\") #$\n",
    "\tend\n",
    "\n",
    "\tg = GroupPlot(3, 1, groupStyle=\"horizontal sep=1cm\", style=\"ymin=-1.1, ymax=1.1, width=6cm\")\n",
    "\tpush!(g, get_axis(2.0))\n",
    "\tpush!(g, get_axis(1.0))\n",
    "\tpush!(g, get_axis(0.5))\n",
    "\tg\n",
    "\tend\n",
    "\n",
    "\tplot(p)"
   ]
  },
  {
   "cell_type": "code",
   "execution_count": null,
   "metadata": {
    "collapsed": true
   },
   "outputs": [],
   "source": [
    "\tdiff_forward(f, h) = x -> (f(x + h) - f(x)) / h\n",
    "\tdiff_central(f, h) = x -> (f(x + h/2) - f(x-h/2)) / (h)\n",
    "\tdiff_complex(f, h) = x -> imag(f(x + h*im)) / h\n",
    "\n",
    "\tp = let\n",
    "\tx = 0.5\n",
    "\n",
    "\tarr_h = collect(10 .^ range(-17, stop=1, length=101))\n",
    "\tarr_forward = Float64[abs(1.0 - diff_forward(sin, h)(x)/cos(x)) for h in arr_h]\n",
    "\tarr_central = Float64[abs(1.0 - diff_central(sin, h)(x)/cos(x)) for h in arr_h]\n",
    "\tarr_complex = Float64[abs(1.0 - diff_complex(sin, h)(x)/cos(x)) for h in arr_h]\n",
    "\n",
    "\tAxis([\n",
    "\tPlots.Linear(arr_h, arr_complex, style=\"thick, solid, pastelGreen, mark=none\", legendentry=\"complex\"),\n",
    "\tPlots.Linear(arr_h, arr_forward, style=\"thick, solid, pastelBlue, mark=none\", legendentry=\"forward\"),\n",
    "\tPlots.Linear(arr_h, arr_central, style=\"thick, solid, pastelRed, mark=none\", legendentry=\"central\")],\n",
    "\txmode=\"log\", ymode=\"log\", xlabel=\"step size \\$h\\$\", ylabel=\"absolute relative error\",\n",
    "\twidth=\"10cm\", height=\"8cm\", style=\"legend pos=outer north east\")\n",
    "\tend\n",
    "\n",
    "\tplot(p)"
   ]
  }
 ],
 "metadata": {
  "kernelspec": {
   "display_name": "Julia 1.0.1",
   "language": "julia",
   "name": "julia-1.0"
  },
  "language_info": {
   "file_extension": ".jl",
   "mimetype": "application/julia",
   "name": "julia",
   "version": "1.0.1"
  }
 },
 "nbformat": 4,
 "nbformat_minor": 2
}
