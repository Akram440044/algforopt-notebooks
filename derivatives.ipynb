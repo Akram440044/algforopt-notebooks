{
 "cells": [
  {
   "cell_type": "markdown",
   "metadata": {},
   "source": [
    "# Derivatives\n",
    "\n",
    "This notebook was automatically generated from the Algorithms for Optimization source code. Each cell generates a figure from the original text. While this code is not optimized for use in lectures, we provide it here to be adapted for such projects. We hope you find it useful."
   ]
  },
  {
   "cell_type": "code",
   "execution_count": null,
   "metadata": {
    "collapsed": true
   },
   "outputs": [],
   "source": [
    "include(\"support_code.jl\");"
   ]
  },
  {
   "cell_type": "code",
   "execution_count": null,
   "metadata": {
    "collapsed": true
   },
   "outputs": [],
   "source": [
    "p = let\n",
    "\n",
    "f = x->sin(x)\n",
    "\n",
    "x₀ = 0.5\n",
    "ymin = -1.1\n",
    "lo = -2\n",
    "hi = 3\n",
    "\n",
    "function get_axis(h)\n",
    "a, b = x₀, x₀ + h\n",
    "fa, fb = f(a), f(b)\n",
    "m = (fb - fa) / (b-a)\n",
    "\n",
    "p = Plots.Plot[]\n",
    "push!(p, Plots.Linear(f, (lo,hi), style=\"thick, black\"))\n",
    "push!(p, Plots.Linear([a,a],[fa, ymin], style=\"solid, black, mark=none\"))\n",
    "push!(p, Plots.Linear([b,b],[fb, ymin], style=\"solid, black, mark=none\"))\n",
    "push!(p, Plots.Linear([lo,hi],[ymin, ymin], style=\"solid, black, mark=none\"))\n",
    "push!(p, Plots.Linear([lo, hi],[fa + (lo-a)*m, fa + (hi-a)*m], style=\"ultra thick, solid, pastelBlue, mark=none\"))\n",
    "push!(p, Plots.Scatter([a, b],[fa, fb], style=\"solid, mark=*, mark options={draw=black, fill=black}\"))\n",
    "\n",
    "Axis(p, style=\"axis lines=left, axis line style = {transparent}, xtick={$(x₀ + h/2)}, xticklabels={\\$h\\$}, ytick=\\\\empty, xtick style={draw=none}, ytick style={draw=none}\") #$\n",
    "end\n",
    "\n",
    "g = GroupPlot(3, 1, groupStyle=\"horizontal sep=1cm\", style=\"ymin=-1.1, ymax=1.1, width=6cm\")\n",
    "push!(g, get_axis(2.0))\n",
    "push!(g, get_axis(1.0))\n",
    "push!(g, get_axis(0.5))\n",
    "g\n",
    "end\n",
    "\n",
    "plot(p)"
   ]
  },
  {
   "cell_type": "code",
   "execution_count": null,
   "metadata": {
    "collapsed": true
   },
   "outputs": [],
   "source": [
    "diff_forward(f, x; h=sqrt(eps(Float64))) = (f(x+h) - f(x))/h\n",
    "diff_central(f, x; h=cbrt(eps(Float64))) = (f(x+h/2) - f(x-h/2))/h\n",
    "diff_backward(f, x; h=sqrt(eps(Float64))) = (f(x) - f(x-h))/h\n",
    "diff_complex(f, x; h=1e-20) = imag(f(x + h*im)) / h\n",
    "\n",
    "p = let\n",
    "\tx = 0.5\n",
    "\td_true = 1.0\n",
    "\n",
    "\tarr_h = collect(10 .^ range(-17, stop=1, length=101))\n",
    "\tarr_forward = [abs(d_true - diff_forward(sin, x, h=h)/cos(x))\n",
    "\t\t\t\t\tfor h in arr_h]\n",
    "\tarr_central = [abs(d_true - diff_central(sin, x, h=h)/cos(x))\n",
    "\t\t\t\t\tfor h in arr_h]\n",
    "\tarr_complex = [abs(d_true - diff_complex(sin, x, h=h)/cos(x))\n",
    "\t\t\t\t\tfor h in arr_h]\n",
    "\n",
    "\tAxis([\n",
    "\t\tPlots.Linear(arr_h, arr_complex, style=\"thick, solid,\n",
    "\t\t\tpastelGreen, mark=none\", legendentry=\"complex\"),\n",
    "\t\tPlots.Linear(arr_h, arr_forward, style=\"thick, solid,\n",
    "\t\t\tpastelBlue, mark=none\", legendentry=\"forward\"),\n",
    "\t\tPlots.Linear(arr_h, arr_central, style=\"thick, solid,\n",
    "\t\t\tpastelRed, mark=none\", legendentry=\"central\")],\n",
    "\t\txmode=\"log\", ymode=\"log\",\n",
    "\t\txlabel=\"step size \\$h\\$\",\n",
    "\t\tylabel=\"absolute relative error\",\n",
    "\t\twidth=\"10cm\", height=\"8cm\",\n",
    "\t\tstyle=\"legend pos=outer north east\"\n",
    "\t)\n",
    "end\n",
    "plot(p)"
   ]
  }
 ],
 "metadata": {
  "kernelspec": {
   "display_name": "Julia 1.5.1",
   "language": "julia",
   "name": "julia-1.5"
  },
  "language_info": {
   "file_extension": ".jl",
   "mimetype": "application/julia",
   "name": "julia",
   "version": "1.5.1"
  }
 },
 "nbformat": 4,
 "nbformat_minor": 2
}
