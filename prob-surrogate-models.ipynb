{
 "cells": [
  {
   "cell_type": "markdown",
   "metadata": {},
   "source": [
    "# Prob Surrogate Models\n",
    "\n",
    "This notebook was automatically generated from the Algorithms for Optimization source code. Each cell generates a figure from the original text. While this code is not optimized for use in lectures, we provide it here to be adapted for such projects. We hope you find it useful."
   ]
  },
  {
   "cell_type": "code",
   "execution_count": null,
   "metadata": {
    "collapsed": true
   },
   "outputs": [],
   "source": [
    "include(\"support_code.jl\");"
   ]
  },
  {
   "cell_type": "code",
   "execution_count": null,
   "metadata": {
    "collapsed": true
   },
   "outputs": [],
   "source": [
    "include(\"../chapter/gp.jl\")\n",
    "\n",
    "using LinearAlgebra\n",
    "\n",
    "p = let\n",
    "\n",
    "\tdomx = (-4,4)\n",
    "\tdomy = (-4,4)\n",
    "\n",
    "\tg = GroupPlot(3,1,groupStyle=\"horizontal sep=0.5cm, xlabels at=edge bottom, xticklabels at=edge bottom, ylabels at=edge left, yticklabels at=edge left\", style=\"width=6.5cm, height=6.5cm, axis equal, view={0}{90}, xlabel=\\$x_1\\$, ylabel=\\$x_2\\$,\")\n",
    "\n",
    "\tNs = [MvNormal(Float64[0,0], Matrix(1.0I, 2, 2)),\n",
    "\tMvNormal(Float64[0,0], Float64[3 0; 0 0.5]),\n",
    "\tMvNormal(Float64[0,0], [1 0.9; 0.9 1])]\n",
    "\ttitles = [L\"\\mat \\Sigma = \\begin{bmatrix}1 & 0 \\\\ 0 & 1\\end{bmatrix}\",\n",
    "\tL\"\\mat \\Sigma = \\begin{bmatrix}3 & 0 \\\\ 0 & 0.5\\end{bmatrix}\",\n",
    "\tL\"\\mat \\Sigma = \\begin{bmatrix}1 & 0.9 \\\\ 0.9 & 1\\end{bmatrix}\"\n",
    "\t]\n",
    "\n",
    "\tfor (N,title) in zip(Ns, titles)\n",
    "\tax = Axis(Plots.Contour((x,y)->pdf(N, [x,y]), domx, domy, levels=[0.001,0.01,0.05,0.1,0.2,0.3], xbins=201, ybins=201),\n",
    "\txmin=-3, xmax=3, ymin=0, ymax=0.6, title = title, style=\"contour/labels=false\",\n",
    "\t)\n",
    "\tpush!(g, ax)\n",
    "\tend\n",
    "\n",
    "\tg\n",
    "end\n",
    "\n",
    "plot(p)"
   ]
  }
 ],
 "metadata": {
  "kernelspec": {
   "display_name": "Julia 1.5.1",
   "language": "julia",
   "name": "julia-1.5"
  },
  "language_info": {
   "file_extension": ".jl",
   "mimetype": "application/julia",
   "name": "julia",
   "version": "1.5.1"
  }
 },
 "nbformat": 4,
 "nbformat_minor": 2
}
