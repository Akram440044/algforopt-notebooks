{
 "cells": [
  {
   "cell_type": "markdown",
   "metadata": {},
   "source": [
    "# Test Functions\n",
    "\n",
    "This notebook was automatically generated from the Algorithms for Optimization source code. Each cell generates a figure from the original text. While this code is not optimized for use in lectures, we provide it here to be adapted for such projects. We hope you find it useful."
   ]
  },
  {
   "cell_type": "code",
   "execution_count": null,
   "metadata": {
    "collapsed": true
   },
   "outputs": [],
   "source": [
    "include(\"support_code.jl\");"
   ]
  },
  {
   "cell_type": "code",
   "execution_count": null,
   "metadata": {
    "collapsed": true
   },
   "outputs": [],
   "source": [
    "p = let\n",
    "\tfunction ackley(x, a=20, b=0.2, c=2π)\n",
    "\t\td = length(x)\n",
    "\t\treturn -a*exp(-b*sqrt(sum(x.^2)/d)) -\n",
    "\t\t          exp(sum(cos.(c*xi) for xi in x)/d) + a + ℯ\n",
    "\tend\n",
    "\n",
    "\txdomain = (-30, 30)\n",
    "\tydomain = (-30, 30)\n",
    "\n",
    "\tplots = Plots.Plot[]\n",
    "\tpush!(plots, Plots.Image((x,y)->ackley([x,y]), xdomain, ydomain, xbins=600, ybins=600, colormap = pasteljet, colorbar = false))\n",
    "\tAxis(plots, width=\"8cm\", height=\"8cm\", xlabel=L\"x_1\", ylabel=L\"x_2\", style=\"axis equal, view={0}{90}\")\n",
    "end\n",
    "\n",
    "plot(p)"
   ]
  }
 ],
 "metadata": {
  "kernelspec": {
   "display_name": "Julia 1.5.1",
   "language": "julia",
   "name": "julia-1.5"
  },
  "language_info": {
   "file_extension": ".jl",
   "mimetype": "application/julia",
   "name": "julia",
   "version": "1.5.1"
  }
 },
 "nbformat": 4,
 "nbformat_minor": 2
}
